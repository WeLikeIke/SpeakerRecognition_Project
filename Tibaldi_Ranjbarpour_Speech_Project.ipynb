{
  "nbformat": 4,
  "nbformat_minor": 0,
  "metadata": {
    "colab": {
      "name": "Tibaldi_Ranjbarpour_Speech_Project.ipynb",
      "provenance": [],
      "private_outputs": true,
      "collapsed_sections": []
    },
    "kernelspec": {
      "name": "python3",
      "display_name": "Python 3"
    }
  },
  "cells": [
    {
      "cell_type": "code",
      "metadata": {
        "id": "X_lobr0RNgyk",
        "colab_type": "code",
        "colab": {}
      },
      "source": [
        "#Data manipulation\n",
        "import numpy as np\n",
        "import librosa\n",
        "from sklearn.model_selection import train_test_split\n",
        "\n",
        "#Model creation\n",
        "import keras\n",
        "from keras.models import Sequential\n",
        "from keras.layers import Dense, Dropout, Flatten, LSTM\n",
        "from keras.layers.normalization import BatchNormalization\n",
        "\n",
        "#Files management\n",
        "import os\n",
        "from google.colab import files\n",
        "\n",
        "#Visualization\n",
        "import matplotlib.pyplot as plt\n",
        "%matplotlib inline"
      ],
      "execution_count": 0,
      "outputs": []
    },
    {
      "cell_type": "code",
      "metadata": {
        "id": "IYB23YZxWTFg",
        "colab_type": "code",
        "colab": {}
      },
      "source": [
        "#Data upload\n",
        "#When the file selection pops up, you should select a zip file containing the data\n",
        "#called SoundData.zip\n",
        "files.upload()\n",
        "!unzip SoundData.zip\n",
        "\n",
        "data = []\n",
        "labels = []\n",
        "for i in os.listdir():\n",
        "    if i[-1] == \"v\":\n",
        "        data.append(i)\n",
        "        labels.append(int(i.split('_')[0]))"
      ],
      "execution_count": 0,
      "outputs": []
    },
    {
      "cell_type": "code",
      "metadata": {
        "id": "vn1l6pzcN9a-",
        "colab_type": "code",
        "colab": {}
      },
      "source": [
        "#Data processing\n",
        "mfcc_number = 40\n",
        "mfcc_size = 660\n",
        "\n",
        "\n",
        "X = []\n",
        "for i in data:\n",
        "    w, s = librosa.load(i, mono=True)\n",
        "    mfcc = librosa.feature.mfcc(w,s, n_mfcc= mfcc_number)\n",
        "    mfcc = np.pad(mfcc, ((0,0), (0, mfcc_size - len(mfcc[0]))), mode=\"constant\", constant_values=0)\n",
        "    X.append(mfcc)\n",
        "    \n",
        "X = np.array(X)\n",
        "labels = np.array(labels)\n",
        "\n",
        "train_x, test_x, train_y, test_y = train_test_split(X, labels, test_size = 0.2, random_state = 7)\n",
        "train_x, val_x, train_y, val_y = train_test_split(train_x, train_y, test_size = 0.2, random_state = 7)\n",
        "\n",
        "\n",
        "print(\"Train: x:\",np.shape(train_x),\"y:\",np.shape(train_y))\n",
        "print(\"Validation: x:\",np.shape(val_x),\"y:\",np.shape(val_y))\n",
        "print(\"Test: x:\",np.shape(test_x),\"y:\",np.shape(test_y))\n",
        "\n",
        "in_shape = (mfcc_number,mfcc_size)\n",
        "out_shape = len(np.unique(labels))\n",
        "\n",
        "print(\"input_shape:\",in_shape,\"output_shape:\",out_shape)"
      ],
      "execution_count": 0,
      "outputs": []
    },
    {
      "cell_type": "code",
      "metadata": {
        "id": "CFy4F-vTavtg",
        "colab_type": "code",
        "colab": {}
      },
      "source": [
        "#Visualization\n",
        "\n",
        "#Plots accuracy and loss for train and validation sets of a trained model\n",
        "def plot_history(history):\n",
        "    # Plot training & validation accuracy values\n",
        "    plt.plot(history.history['acc'])\n",
        "    plt.plot(history.history['val_acc'])\n",
        "    plt.title('Model accuracy')\n",
        "    plt.ylabel('Accuracy')\n",
        "    plt.xlabel('Epoch')\n",
        "    plt.legend(['Train', 'Val'], loc='upper left')\n",
        "    plt.show()\n",
        "\n",
        "    # Plot training & validation loss values\n",
        "    plt.plot(history.history['loss'])\n",
        "    plt.plot(history.history['val_loss'])\n",
        "    plt.title('Model loss')\n",
        "    plt.ylabel('Loss')\n",
        "    plt.xlabel('Epoch')\n",
        "    plt.legend(['Train', 'Val'], loc='upper left')\n",
        "    plt.show()"
      ],
      "execution_count": 0,
      "outputs": []
    },
    {
      "cell_type": "code",
      "metadata": {
        "id": "vFQ217-_ZVtn",
        "colab_type": "code",
        "colab": {}
      },
      "source": [
        "#Shows an example mfcc in linear and log scale\n",
        "\n",
        "import librosa.display\n",
        "plt.figure(figsize=(10, 4))\n",
        "plt.subplot(2,1,1)\n",
        "librosa.display.specshow(mfcc, x_axis='time')\n",
        "plt.colorbar(format='%+2.0f dB')\n",
        "plt.title('MFCC')\n",
        "\n",
        "plt.subplot(2,1,2)\n",
        "librosa.display.specshow(mfcc, x_axis='time', y_axis= \"log\")\n",
        "plt.colorbar(format='%+2.0f dB')\n",
        "plt.title('log scale MFCC')\n",
        "\n",
        "plt.tight_layout()\n",
        "plt.show()"
      ],
      "execution_count": 0,
      "outputs": []
    },
    {
      "cell_type": "code",
      "metadata": {
        "id": "mFfN14riQFtb",
        "colab_type": "code",
        "colab": {}
      },
      "source": [
        "#Model definition\n",
        "model = Sequential()\n",
        "\n",
        "model.add(LSTM(256, input_shape = in_shape, return_sequences=True, recurrent_dropout= 0.33))\n",
        "model.add(Dropout(0.5))\n",
        "model.add(Flatten())\n",
        "\n",
        "model.add(Dense(128, activation= \"relu\"))\n",
        "model.add(BatchNormalization())\n",
        "model.add(Dropout(0.5))\n",
        "\n",
        "model.add(Dense(out_shape,activation=\"softmax\"))\n",
        "\n",
        "model.compile(loss=keras.losses.sparse_categorical_crossentropy, optimizer=keras.optimizers.Adam(),metrics=['acc'])"
      ],
      "execution_count": 0,
      "outputs": []
    },
    {
      "cell_type": "code",
      "metadata": {
        "id": "-gaPDE3tSbdc",
        "colab_type": "code",
        "colab": {}
      },
      "source": [
        "#Setup\n",
        "model.summary()\n",
        "batch_size = 16\n",
        "epochs = 32\n",
        "keras.utils.plot_model(model, show_shapes=True)"
      ],
      "execution_count": 0,
      "outputs": []
    },
    {
      "cell_type": "code",
      "metadata": {
        "id": "Ec1qZFFP3DWh",
        "colab_type": "code",
        "colab": {}
      },
      "source": [
        "#Training\n",
        "history = model.fit(train_x, train_y, batch_size=batch_size, shuffle=True, epochs=epochs, validation_data=(val_x, val_y))"
      ],
      "execution_count": 0,
      "outputs": []
    },
    {
      "cell_type": "code",
      "metadata": {
        "id": "4RN42fDTTeLV",
        "colab_type": "code",
        "colab": {}
      },
      "source": [
        "#Test\n",
        "l,a = model.evaluate(test_x, test_y)\n",
        "print(\"Test loss: {:.4f}, Test accuracy: {:.2f}%\".format(l,a*100))"
      ],
      "execution_count": 0,
      "outputs": []
    },
    {
      "cell_type": "code",
      "metadata": {
        "id": "QI87jO0IVzHM",
        "colab_type": "code",
        "colab": {}
      },
      "source": [
        "#Visualization\n",
        "plot_history(history)"
      ],
      "execution_count": 0,
      "outputs": []
    },
    {
      "cell_type": "code",
      "metadata": {
        "id": "LcjyOK8MqN5Y",
        "colab_type": "code",
        "colab": {}
      },
      "source": [
        "#Just a quick check on where the model made mistakes in the test set\n",
        "#predicted label - true label - difference in confidence between the predicted label and true label\n",
        "#when the difference is low the model almost predicted correctly\n",
        "print(\"pred - true - diff\")\n",
        "for i,v in enumerate(model.predict(test_x)):\n",
        "    \n",
        "    if np.argmax(v) == test_y[i]:\n",
        "        sign = \"=\"\n",
        "    else:\n",
        "        sign = \"≠\"\n",
        "    diff = np.amax(v) - v[test_y[i]]\n",
        "    print(\"  \",np.argmax(v),sign,test_y[i],\"   -\",diff)\n"
      ],
      "execution_count": 0,
      "outputs": []
    },
    {
      "cell_type": "code",
      "metadata": {
        "id": "CTSRUTB7roFw",
        "colab_type": "code",
        "colab": {}
      },
      "source": [
        ""
      ],
      "execution_count": 0,
      "outputs": []
    }
  ]
}